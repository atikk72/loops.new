{
  "nbformat": 4,
  "nbformat_minor": 0,
  "metadata": {
    "colab": {
      "provenance": [],
      "authorship_tag": "ABX9TyMqlm7Zk+ZTkfUUJoxU+6uQ",
      "include_colab_link": true
    },
    "kernelspec": {
      "name": "python3",
      "display_name": "Python 3"
    },
    "language_info": {
      "name": "python"
    }
  },
  "cells": [
    {
      "cell_type": "markdown",
      "metadata": {
        "id": "view-in-github",
        "colab_type": "text"
      },
      "source": [
        "<a href=\"https://colab.research.google.com/github/atikk72/loops.new/blob/main/even_odd_with_for_loops.ipynb\" target=\"_parent\"><img src=\"https://colab.research.google.com/assets/colab-badge.svg\" alt=\"Open In Colab\"/></a>"
      ]
    },
    {
      "cell_type": "code",
      "execution_count": 1,
      "metadata": {
        "colab": {
          "base_uri": "https://localhost:8080/"
        },
        "id": "_iIIh2UzQnSG",
        "outputId": "d425d5b3-576d-426d-c38a-5f7f664ac554"
      },
      "outputs": [
        {
          "output_type": "stream",
          "name": "stdout",
          "text": [
            "Number is odd: 1\n",
            "Number is odd: 13\n",
            "Number is even: 54\n",
            "Number is odd: 23\n",
            "Number is odd: 11\n",
            "Number is even: 20\n",
            "Number is odd: 89\n",
            "Number is even: 88\n"
          ]
        }
      ],
      "source": [
        "#find the  even number using while loops\n",
        "my_list=[1,13,54,23,11,20,89,88]\n",
        "for numbers in my_list:\n",
        "  if numbers%2==0:\n",
        "    print(\"Number is even:\", numbers)\n",
        "  else:\n",
        "    print(\"Number is odd:\", numbers)"
      ]
    },
    {
      "cell_type": "code",
      "source": [
        "# using for range concept\n",
        "range(1,100,33)\n",
        "r=range(1,100,3)\n",
        "print(len(r))\n",
        "for i in range(1,100,3):\n",
        "  if i%2==0:\n",
        "    print(\"i is even:\",i)\n",
        "  else:\n",
        "    print(\"i is odd:\",i)"
      ],
      "metadata": {
        "colab": {
          "base_uri": "https://localhost:8080/"
        },
        "id": "ZmYZsnKdRJnR",
        "outputId": "4b5c9f53-6eb5-42d3-da20-0f8396d1a87f"
      },
      "execution_count": 10,
      "outputs": [
        {
          "output_type": "stream",
          "name": "stdout",
          "text": [
            "33\n",
            "i is odd: 1\n",
            "i is even: 4\n",
            "i is odd: 7\n",
            "i is even: 10\n",
            "i is odd: 13\n",
            "i is even: 16\n",
            "i is odd: 19\n",
            "i is even: 22\n",
            "i is odd: 25\n",
            "i is even: 28\n",
            "i is odd: 31\n",
            "i is even: 34\n",
            "i is odd: 37\n",
            "i is even: 40\n",
            "i is odd: 43\n",
            "i is even: 46\n",
            "i is odd: 49\n",
            "i is even: 52\n",
            "i is odd: 55\n",
            "i is even: 58\n",
            "i is odd: 61\n",
            "i is even: 64\n",
            "i is odd: 67\n",
            "i is even: 70\n",
            "i is odd: 73\n",
            "i is even: 76\n",
            "i is odd: 79\n",
            "i is even: 82\n",
            "i is odd: 85\n",
            "i is even: 88\n",
            "i is odd: 91\n",
            "i is even: 94\n",
            "i is odd: 97\n"
          ]
        }
      ]
    },
    {
      "cell_type": "code",
      "source": [
        "#finding off even using nested_list\n",
        "nested_list=[[1,2,3,4],[4,6,7,8],[10,6,7,8],[11,54,33,57]]\n",
        "# to access the elements we need to break the nested list and for that we need to use for loops twice\n",
        "# >>step 1\n",
        "for sublist in nested_list:\n",
        "  print(sublist)\n",
        "  for numbers in sublist:\n",
        "    print(numbers)\n",
        "# since we have access the elements inside the sublist we can find even odd easily\n"
      ],
      "metadata": {
        "colab": {
          "base_uri": "https://localhost:8080/"
        },
        "id": "giOtbrX4RbQE",
        "outputId": "4e8fe942-7be3-4f9f-f5bc-d57c4abc32d4"
      },
      "execution_count": 19,
      "outputs": [
        {
          "output_type": "stream",
          "name": "stdout",
          "text": [
            "[1, 2, 3, 4]\n",
            "1\n",
            "2\n",
            "3\n",
            "4\n",
            "[4, 6, 7, 8]\n",
            "4\n",
            "6\n",
            "7\n",
            "8\n",
            "[10, 6, 7, 8]\n",
            "10\n",
            "6\n",
            "7\n",
            "8\n",
            "[11, 54, 33, 57]\n",
            "11\n",
            "54\n",
            "33\n",
            "57\n"
          ]
        }
      ]
    },
    {
      "cell_type": "code",
      "source": [
        "#step>>2\n",
        "nested_list=[[1,2,3,4],[4,6,7,8],[10,6,7,8],[11,54,33,57]]\n",
        "\n",
        "for sublist in nested_list:\n",
        "   for numbers in sublist:\n",
        "     if numbers % 2 == 0:\n",
        "      print(\"number is even:\",  numbers)\n",
        "     else:\n",
        "      print(\"number is odd:\"    ,numbers)\n"
      ],
      "metadata": {
        "colab": {
          "base_uri": "https://localhost:8080/"
        },
        "id": "QW3nE9tdSbge",
        "outputId": "fe387524-4a80-41ed-aa0c-84dc990c1851"
      },
      "execution_count": 35,
      "outputs": [
        {
          "output_type": "stream",
          "name": "stdout",
          "text": [
            "number is odd: 1\n",
            "number is even: 2\n",
            "number is odd: 3\n",
            "number is even: 4\n",
            "number is even: 4\n",
            "number is even: 6\n",
            "number is odd: 7\n",
            "number is even: 8\n",
            "number is even: 10\n",
            "number is even: 6\n",
            "number is odd: 7\n",
            "number is even: 8\n",
            "number is odd: 11\n",
            "number is even: 54\n",
            "number is odd: 33\n",
            "number is odd: 57\n",
            "numbber is even 57\n"
          ]
        }
      ]
    },
    {
      "cell_type": "code",
      "source": [
        "nested_list=[[1,2,3,4],[4,6,7,8],[10,6,7,8],[11,98,33,57]]\n",
        "# find the highest even number in the nested_list\n",
        "even_no=0\n",
        "for sublist in nested_list:\n",
        "  for numbers in sublist:\n",
        "    if numbers%2==0 and numbers > even_no:\n",
        "      even_no=numbers\n",
        "print(f\"the largest even no is:{even_no}\")\n",
        "\n"
      ],
      "metadata": {
        "colab": {
          "base_uri": "https://localhost:8080/"
        },
        "id": "vV3z715xl9oS",
        "outputId": "8af2823b-c2e5-4f47-b72e-f5f6f4a96dd5"
      },
      "execution_count": 42,
      "outputs": [
        {
          "output_type": "stream",
          "name": "stdout",
          "text": [
            "the largest even no is:98\n"
          ]
        }
      ]
    },
    {
      "cell_type": "code",
      "source": [],
      "metadata": {
        "id": "bZhBJGfkncdP"
      },
      "execution_count": null,
      "outputs": []
    }
  ]
}